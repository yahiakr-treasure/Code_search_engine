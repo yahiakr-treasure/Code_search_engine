{
  "nbformat": 4,
  "nbformat_minor": 0,
  "metadata": {
    "colab": {
      "name": "Fine-tuning bert.ipynb",
      "provenance": [],
      "collapsed_sections": [],
      "toc_visible": true
    },
    "kernelspec": {
      "name": "python3",
      "display_name": "Python 3"
    },
    "accelerator": "GPU"
  },
  "cells": [
    {
      "cell_type": "code",
      "metadata": {
        "id": "oqQ7wSYsmQNf",
        "colab_type": "code",
        "colab": {}
      },
      "source": [
        "urls = \"\"\"\n",
        "https://storage.googleapis.com/kubeflow-examples/code_search/data/train.docstring\n",
        "https://storage.googleapis.com/kubeflow-examples/code_search/data/test.docstring\"\"\"\n",
        "\n",
        "urls = urls.split(\"\\n\")\n",
        "\n",
        "for url in urls:\n",
        "  !wget $url -P ./data"
      ],
      "execution_count": 0,
      "outputs": []
    },
    {
      "cell_type": "code",
      "metadata": {
        "id": "vfVuaVJychKM",
        "colab_type": "code",
        "colab": {}
      },
      "source": [
        "!pip install transformers\n",
        "\n",
        "!wget https://raw.githubusercontent.com/huggingface/transformers/master/examples/run_language_modeling.py"
      ],
      "execution_count": 0,
      "outputs": []
    },
    {
      "cell_type": "code",
      "metadata": {
        "id": "VedZf9XiA7wa",
        "colab_type": "code",
        "colab": {}
      },
      "source": [
        "import pandas as pd\n",
        "import numpy as np"
      ],
      "execution_count": 0,
      "outputs": []
    },
    {
      "cell_type": "code",
      "metadata": {
        "id": "6d8tYYCMCYiJ",
        "colab_type": "code",
        "colab": {}
      },
      "source": [
        "df = pd.read_csv(\"./data/train.docstring\")"
      ],
      "execution_count": 0,
      "outputs": []
    },
    {
      "cell_type": "code",
      "metadata": {
        "id": "r0v9FL_Ad6U1",
        "colab_type": "code",
        "colab": {}
      },
      "source": [
        "!python run_language_modeling.py \\\n",
        "    --output_dir=output \\\n",
        "    --model_type=bert \\\n",
        "    --model_name_or_path=bert-base-uncased \\\n",
        "    --do_train \\\n",
        "    --train_data_file=/content/data/train.docstring \\\n",
        "    --do_eval \\\n",
        "    --eval_data_file=/content/data/test.docstring \\\n",
        "    --mlm"
      ],
      "execution_count": 0,
      "outputs": []
    },
    {
      "cell_type": "code",
      "metadata": {
        "id": "-QJWLg-2Ey1i",
        "colab_type": "code",
        "colab": {}
      },
      "source": [
        "!mv ./output /content/drive/My\\ Drive/Colab\\ Notebooks"
      ],
      "execution_count": 0,
      "outputs": []
    }
  ]
}