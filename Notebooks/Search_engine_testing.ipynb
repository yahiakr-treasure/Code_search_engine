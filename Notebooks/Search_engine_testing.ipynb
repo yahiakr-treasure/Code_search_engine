{
  "nbformat": 4,
  "nbformat_minor": 0,
  "metadata": {
    "colab": {
      "name": "Search_engine_testing.ipynb",
      "provenance": [],
      "collapsed_sections": [],
      "toc_visible": true
    },
    "kernelspec": {
      "name": "python3",
      "display_name": "Python 3"
    },
    "accelerator": "GPU"
  },
  "cells": [
    {
      "cell_type": "code",
      "metadata": {
        "id": "zuvjK5R6QdD3",
        "colab_type": "code",
        "colab": {}
      },
      "source": [
        "import os\n",
        "\n",
        "os.chdir(\"/content/drive/My Drive/Colab Notebooks/Code_search_engine\")"
      ],
      "execution_count": 0,
      "outputs": []
    },
    {
      "cell_type": "code",
      "metadata": {
        "id": "71dVX0xSQKJA",
        "colab_type": "code",
        "colab": {}
      },
      "source": [
        "!pip install transformers\n",
        "!pip install tensorboardX"
      ],
      "execution_count": 0,
      "outputs": []
    },
    {
      "cell_type": "code",
      "metadata": {
        "id": "EmXeZk0sQRhT",
        "colab_type": "code",
        "colab": {}
      },
      "source": [
        "import torch\n",
        "\n",
        "import transformers\n",
        "from transformers import (WEIGHTS_NAME,BertConfig, BertForMaskedLM, BertTokenizer)"
      ],
      "execution_count": 0,
      "outputs": []
    },
    {
      "cell_type": "code",
      "metadata": {
        "id": "uQTF55PhBDiT",
        "colab_type": "code",
        "colab": {}
      },
      "source": [
        "import json\n",
        "\n",
        "with open('/content/data/test_original_function.json') as json_file:\n",
        "    function_data = json.load(json_file)"
      ],
      "execution_count": 0,
      "outputs": []
    },
    {
      "cell_type": "code",
      "metadata": {
        "id": "eYViIsBn_UCF",
        "colab_type": "code",
        "colab": {}
      },
      "source": [
        "import pandas as pd\n",
        "import numpy as np\n",
        "\n",
        "df_docstring = pd.read_csv(\"./data/test.docstring\",sep='\\t', names=[\"docstring\"])[:20000]\n",
        "df_lineage = pd.read_csv(\"./data/test.lineage\",sep='\\t', names=[\"Repo\"])[:20000]"
      ],
      "execution_count": 0,
      "outputs": []
    },
    {
      "cell_type": "code",
      "metadata": {
        "id": "8dqbFmeG_e6s",
        "colab_type": "code",
        "colab": {}
      },
      "source": [
        "docstrings_avg_vec = np.load('./docstrings_avg_vecs.npy',allow_pickle=True)"
      ],
      "execution_count": 0,
      "outputs": []
    },
    {
      "cell_type": "code",
      "metadata": {
        "id": "LnB_ESRfQjfw",
        "colab_type": "code",
        "colab": {}
      },
      "source": [
        "model_path = \"./output/pytorch_model.bin\"\n",
        "\n",
        "config = BertConfig.from_json_file('./output/config.json')\n",
        "config.output_hidden_states = True\n",
        "\n",
        "\n",
        "tokenizer = BertTokenizer.from_pretrained('bert-base-uncased')\n",
        "\n",
        "model = BertForMaskedLM.from_pretrained(\"bert-base-uncased\",config=config)\n",
        "model.load_state_dict(torch.load(model_path))\n",
        "model.eval()"
      ],
      "execution_count": 0,
      "outputs": []
    },
    {
      "cell_type": "markdown",
      "metadata": {
        "id": "UHBctq4lOCel",
        "colab_type": "text"
      },
      "source": [
        "# Creating the search engine:"
      ]
    },
    {
      "cell_type": "code",
      "metadata": {
        "id": "f6ykE7fuN81W",
        "colab_type": "code",
        "colab": {}
      },
      "source": [
        "!pip install nmslib"
      ],
      "execution_count": 0,
      "outputs": []
    },
    {
      "cell_type": "code",
      "metadata": {
        "id": "IKwgln28OIa1",
        "colab_type": "code",
        "colab": {}
      },
      "source": [
        "import nmslib\n",
        "import numpy\n",
        "\n",
        "# create a random matrix to index\n",
        "data = docstrings_avg_vec\n",
        "\n",
        "# initialize a new index, using a HNSW index on Cosine Similarity\n",
        "index = nmslib.init(method='hnsw', space='cosinesimil')\n",
        "index.addDataPointBatch(data)\n",
        "index.createIndex({'post': 2}, print_progress=True)"
      ],
      "execution_count": 0,
      "outputs": []
    },
    {
      "cell_type": "code",
      "metadata": {
        "id": "X64D2uFIPFCH",
        "colab_type": "code",
        "colab": {
          "base_uri": "https://localhost:8080/",
          "height": 34
        },
        "outputId": "c045402f-8b21-4b7e-c9d9-468c144d6841"
      },
      "source": [
        "user_input = \"create a NN network.\"\n",
        "\n",
        "input_ids = torch.tensor(tokenizer.encode(user_input, add_special_tokens=True)).unsqueeze(0)\n",
        "input_ids"
      ],
      "execution_count": 59,
      "outputs": [
        {
          "output_type": "execute_result",
          "data": {
            "text/plain": [
              "tensor([[ 101, 3443, 1037, 1050, 2078, 2897, 1012,  102]])"
            ]
          },
          "metadata": {
            "tags": []
          },
          "execution_count": 59
        }
      ]
    },
    {
      "cell_type": "code",
      "metadata": {
        "id": "06q35Ce0Qr4v",
        "colab_type": "code",
        "colab": {
          "base_uri": "https://localhost:8080/",
          "height": 34
        },
        "outputId": "0bae180f-f68a-4040-cfad-da64d81524db"
      },
      "source": [
        "outputs = model(input_ids, masked_lm_labels=input_ids)\n",
        "\n",
        "embeddings = outputs[2][-1]\n",
        "print(embeddings.shape)\n",
        "embeddings = embeddings.detach().numpy()[0]\n",
        "\n",
        "size = embeddings.shape[0]\n",
        "sum_array = [sum(x) for x in zip(*embeddings)]\n",
        "avg_array = [sum_array[i]/size for i in range(len(sum_array))]"
      ],
      "execution_count": 60,
      "outputs": [
        {
          "output_type": "stream",
          "text": [
            "torch.Size([1, 8, 768])\n"
          ],
          "name": "stdout"
        }
      ]
    },
    {
      "cell_type": "code",
      "metadata": {
        "id": "BaO84jKXOUYc",
        "colab_type": "code",
        "colab": {}
      },
      "source": [
        "# query for the nearest neighbours of the first datapoint\n",
        "ids, distances = index.knnQuery(avg_array, k=10)"
      ],
      "execution_count": 0,
      "outputs": []
    },
    {
      "cell_type": "code",
      "metadata": {
        "id": "8ZNKHzkfOiX7",
        "colab_type": "code",
        "colab": {
          "base_uri": "https://localhost:8080/",
          "height": 54
        },
        "outputId": "c934eb13-a739-4b30-8115-3cf09e598d51"
      },
      "source": [
        "best_result_id = ids[1]\n",
        "\n",
        "function_data[best_result_id]"
      ],
      "execution_count": 63,
      "outputs": [
        {
          "output_type": "execute_result",
          "data": {
            "text/plain": [
              "'@privileged.default.entrypoint\\ndef create_netns(name, **kwargs):\\n    \"\"\"Create a network namespace.\\n\\n    :param name: The name of the namespace to create\\n    \"\"\"\\n    try:\\n        netns.create(name, **kwargs)\\n    except OSError as e:\\n        if e.errno != errno.EEXIST:\\n            raise\\n'"
            ]
          },
          "metadata": {
            "tags": []
          },
          "execution_count": 63
        }
      ]
    }
  ]
}